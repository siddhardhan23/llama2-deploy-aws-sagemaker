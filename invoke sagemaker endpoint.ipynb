{
 "cells": [
  {
   "cell_type": "code",
   "execution_count": 1,
   "id": "771abe11-55ad-4e2c-afa7-53a2930ba548",
   "metadata": {},
   "outputs": [],
   "source": [
    "import os\n",
    "import json\n",
    "\n",
    "import boto3"
   ]
  },
  {
   "cell_type": "code",
   "execution_count": 2,
   "id": "b7d0bac8-26e0-4580-ba56-291be3220e03",
   "metadata": {},
   "outputs": [],
   "source": [
    "config_data = json.load(open(\"config.json\"))"
   ]
  },
  {
   "cell_type": "code",
   "execution_count": 3,
   "id": "42ea9add-3c85-4588-91bf-a1d5cfb30420",
   "metadata": {},
   "outputs": [],
   "source": [
    "AWS_ACCESS_KEY_ID = config_data[\"AWS_ACCESS_KEY_ID\"]\n",
    "AWS_SECRET_ACCESS_KEY = config_data[\"AWS_SECRET_ACCESS_KEY\"]\n",
    "AWS_DEFAULT_REGION = config_data[\"AWS_DEFAULT_REGION\"]"
   ]
  },
  {
   "cell_type": "code",
   "execution_count": 4,
   "id": "d24a3c56-0cdb-4111-a1c9-2b83db78c76b",
   "metadata": {},
   "outputs": [],
   "source": [
    "# Set up AWS credentials with environment variables\n",
    "os.environ['AWS_ACCESS_KEY_ID'] = AWS_ACCESS_KEY_ID\n",
    "os.environ['AWS_SECRET_ACCESS_KEY'] = AWS_SECRET_ACCESS_KEY\n",
    "os.environ['AWS_DEFAULT_REGION'] = AWS_DEFAULT_REGION"
   ]
  },
  {
   "cell_type": "code",
   "execution_count": 5,
   "id": "998c5ac9-9767-4339-a4a4-4d2e49dda27f",
   "metadata": {},
   "outputs": [],
   "source": [
    "# Create a SageMaker runtime client\n",
    "sagemaker_runtime = boto3.client('sagemaker-runtime')"
   ]
  },
  {
   "cell_type": "code",
   "execution_count": 6,
   "id": "a47d184f-a6d7-489c-af93-d9ef74590eca",
   "metadata": {},
   "outputs": [],
   "source": [
    "prompt = 'What is Machine Learning'"
   ]
  },
  {
   "cell_type": "code",
   "execution_count": 7,
   "id": "0092b37f-31c1-4a2a-a1b6-06bfd589e05e",
   "metadata": {},
   "outputs": [],
   "source": [
    "# hyperparameters for llm\n",
    "payload = {\n",
    "  \"inputs\":  prompt,\n",
    "  \"parameters\": {\n",
    "    \"do_sample\": True,\n",
    "    \"top_p\": 0.6,\n",
    "    'return_full_text':True,\n",
    "    \"temperature\": 0.2,\n",
    "    \"top_k\": 50,\n",
    "    \"max_new_tokens\": 512,\n",
    "    \"repetition_penalty\": 1.03,\n",
    "  }\n",
    "}"
   ]
  },
  {
   "cell_type": "code",
   "execution_count": 8,
   "id": "b983f9a9-d7f2-48a9-8c6f-0990aa5ed9d1",
   "metadata": {},
   "outputs": [],
   "source": [
    "# Prepare payload\n",
    "payload = json.dumps(payload)"
   ]
  },
  {
   "cell_type": "code",
   "execution_count": 9,
   "id": "28b1af08-9eb3-4191-89b2-a9b3ac9f5b63",
   "metadata": {},
   "outputs": [],
   "source": [
    "# Invoke the SageMaker endpoint\n",
    "response = sagemaker_runtime.invoke_endpoint(\n",
    "    EndpointName='llama-2-endpoint',\n",
    "    ContentType='application/json',\n",
    "    Accept='application/json',\n",
    "    Body=payload\n",
    ")"
   ]
  },
  {
   "cell_type": "code",
   "execution_count": 10,
   "id": "caf5c9b8-3ba9-4ab0-8cb1-2b5143e905f0",
   "metadata": {},
   "outputs": [
    {
     "data": {
      "text/plain": [
       "{'ResponseMetadata': {'RequestId': 'e9f25330-0c9a-4119-bb4d-0d95163102f6',\n",
       "  'HTTPStatusCode': 200,\n",
       "  'HTTPHeaders': {'x-amzn-requestid': 'e9f25330-0c9a-4119-bb4d-0d95163102f6',\n",
       "   'x-amzn-invoked-production-variant': 'AllTraffic',\n",
       "   'date': 'Mon, 20 May 2024 07:16:08 GMT',\n",
       "   'content-type': 'application/json',\n",
       "   'content-length': '2531',\n",
       "   'connection': 'keep-alive'},\n",
       "  'RetryAttempts': 0},\n",
       " 'ContentType': 'application/json',\n",
       " 'InvokedProductionVariant': 'AllTraffic',\n",
       " 'Body': <botocore.response.StreamingBody at 0x7ec6e24e05b0>}"
      ]
     },
     "execution_count": 10,
     "metadata": {},
     "output_type": "execute_result"
    }
   ],
   "source": [
    "response"
   ]
  },
  {
   "cell_type": "code",
   "execution_count": 11,
   "id": "8ef15490-b092-430c-8d6a-d194d1056cc2",
   "metadata": {},
   "outputs": [],
   "source": [
    "# Parse and print the response\n",
    "response_body = response['Body'].read()\n",
    "result = json.loads(response_body)"
   ]
  },
  {
   "cell_type": "code",
   "execution_count": 12,
   "id": "04275ce2-5a8d-4934-ad74-4f26564a47b8",
   "metadata": {},
   "outputs": [
    {
     "data": {
      "text/plain": [
       "[{'generated_text': \"What is Machine Learning?\\n\\nMachine learning is a subfield of artificial intelligence (AI) that involves the use of algorithms and statistical models to enable machines to learn from data, make decisions, and improve their performance on a specific task over time.\\n\\nMachine learning algorithms are designed to recognize patterns in data and learn from it, without being explicitly programmed to do so. The algorithms can be trained on large datasets, and as they process more data, they can make better predictions or decisions.\\n\\nMachine learning has a wide range of applications, including:\\n\\n1. Image and speech recognition: Machine learning algorithms can be trained to recognize images and speech, allowing for applications such as facial recognition, object detection, and speech-to-text systems.\\n2. Natural language processing: Machine learning can be used to analyze and understand natural language, enabling applications such as language translation, sentiment analysis, and chatbots.\\n3. Predictive maintenance: Machine learning can be used to analyze sensor data from machines and predict when maintenance is required, reducing downtime and improving overall efficiency.\\n4. Fraud detection: Machine learning algorithms can be trained to detect fraudulent activity, such as credit card fraud or insurance claims fraud.\\n5. Recommendation systems: Machine learning can be used to recommend products or services based on a user's past behavior or preferences.\\n6. Autonomous vehicles: Machine learning can be used to enable self-driving cars to make decisions and navigate roads safely.\\n7. Personalized medicine: Machine learning can be used to analyze genetic data and medical history to provide personalized treatment recommendations.\\n8. Financial forecasting: Machine learning can be used to analyze financial data and make predictions about future market trends.\\n9. Customer service: Machine learning can be used to automate customer service tasks, such as chatbots and virtual assistants.\\n10. Cybersecurity: Machine learning can be used to detect and prevent cyber attacks by analyzing network traffic and identifying unusual patterns.\\n\\nThe process of machine learning typically involves the following steps:\\n\\n1. Data collection: Gathering data relevant to the problem you want to solve.\\n2. Data preparation: Cleaning, transforming, and organizing the data.\\n3. Model selection: Choosing the appropriate machine learning algorithm for the problem.\\n4. Training: Using the data to\"}]"
      ]
     },
     "execution_count": 12,
     "metadata": {},
     "output_type": "execute_result"
    }
   ],
   "source": [
    "result"
   ]
  },
  {
   "cell_type": "code",
   "execution_count": 13,
   "id": "5d517c3b-30db-44da-87b8-4fd1c0ea9419",
   "metadata": {},
   "outputs": [
    {
     "name": "stdout",
     "output_type": "stream",
     "text": [
      "What is Machine Learning?\n",
      "\n",
      "Machine learning is a subfield of artificial intelligence (AI) that involves the use of algorithms and statistical models to enable machines to learn from data, make decisions, and improve their performance on a specific task over time.\n",
      "\n",
      "Machine learning algorithms are designed to recognize patterns in data and learn from it, without being explicitly programmed to do so. The algorithms can be trained on large datasets, and as they process more data, they can make better predictions or decisions.\n",
      "\n",
      "Machine learning has a wide range of applications, including:\n",
      "\n",
      "1. Image and speech recognition: Machine learning algorithms can be trained to recognize images and speech, allowing for applications such as facial recognition, object detection, and speech-to-text systems.\n",
      "2. Natural language processing: Machine learning can be used to analyze and understand natural language, enabling applications such as language translation, sentiment analysis, and chatbots.\n",
      "3. Predictive maintenance: Machine learning can be used to analyze sensor data from machines and predict when maintenance is required, reducing downtime and improving overall efficiency.\n",
      "4. Fraud detection: Machine learning algorithms can be trained to detect fraudulent activity, such as credit card fraud or insurance claims fraud.\n",
      "5. Recommendation systems: Machine learning can be used to recommend products or services based on a user's past behavior or preferences.\n",
      "6. Autonomous vehicles: Machine learning can be used to enable self-driving cars to make decisions and navigate roads safely.\n",
      "7. Personalized medicine: Machine learning can be used to analyze genetic data and medical history to provide personalized treatment recommendations.\n",
      "8. Financial forecasting: Machine learning can be used to analyze financial data and make predictions about future market trends.\n",
      "9. Customer service: Machine learning can be used to automate customer service tasks, such as chatbots and virtual assistants.\n",
      "10. Cybersecurity: Machine learning can be used to detect and prevent cyber attacks by analyzing network traffic and identifying unusual patterns.\n",
      "\n",
      "The process of machine learning typically involves the following steps:\n",
      "\n",
      "1. Data collection: Gathering data relevant to the problem you want to solve.\n",
      "2. Data preparation: Cleaning, transforming, and organizing the data.\n",
      "3. Model selection: Choosing the appropriate machine learning algorithm for the problem.\n",
      "4. Training: Using the data to\n"
     ]
    }
   ],
   "source": [
    "print(result[0]['generated_text'])"
   ]
  },
  {
   "cell_type": "code",
   "execution_count": 14,
   "id": "434215c0-18c9-44f6-8b17-8fe9a748e647",
   "metadata": {},
   "outputs": [
    {
     "name": "stdout",
     "output_type": "stream",
     "text": [
      "\n",
      "\n",
      "Machine learning is a subfield of artificial intelligence (AI) that involves the use of algorithms and statistical models to enable machines to learn from data, make decisions, and improve their performance on a specific task over time.\n",
      "\n",
      "Machine learning algorithms are designed to recognize patterns in data and learn from it, without being explicitly programmed to do so. The algorithms can be trained on large datasets, and as they process more data, they can make better predictions or decisions.\n",
      "\n",
      "Machine learning has a wide range of applications, including:\n",
      "\n",
      "1. Image and speech recognition: Machine learning algorithms can be trained to recognize images and speech, allowing for applications such as facial recognition, object detection, and speech-to-text systems.\n",
      "2. Natural language processing: Machine learning can be used to analyze and understand natural language, enabling applications such as language translation, sentiment analysis, and chatbots.\n",
      "3. Predictive maintenance: Machine learning can be used to analyze sensor data from machines and predict when maintenance is required, reducing downtime and improving overall efficiency.\n",
      "4. Fraud detection: Machine learning algorithms can be trained to detect fraudulent activity, such as credit card fraud or insurance claims fraud.\n",
      "5. Recommendation systems: Machine learning can be used to recommend products or services based on a user's past behavior or preferences.\n",
      "6. Autonomous vehicles: Machine learning can be used to enable self-driving cars to make decisions and navigate roads safely.\n",
      "7. Personalized medicine: Machine learning can be used to analyze genetic data and medical history to provide personalized treatment recommendations.\n",
      "8. Financial forecasting: Machine learning can be used to analyze financial data and make predictions about future market trends.\n",
      "9. Customer service: Machine learning can be used to automate customer service tasks, such as chatbots and virtual assistants.\n",
      "10. Cybersecurity: Machine learning can be used to detect and prevent cyber attacks by analyzing network traffic and identifying unusual patterns.\n",
      "\n",
      "The process of machine learning typically involves the following steps:\n",
      "\n",
      "1. Data collection: Gathering data relevant to the problem you want to solve.\n",
      "2. Data preparation: Cleaning, transforming, and organizing the data.\n",
      "3. Model selection: Choosing the appropriate machine learning algorithm for the problem.\n",
      "4. Training: Using the data to\n"
     ]
    }
   ],
   "source": [
    "print(result[0]['generated_text'][len(prompt)+1:])"
   ]
  },
  {
   "cell_type": "code",
   "execution_count": null,
   "id": "69a17b0d-c170-41d5-822e-b401c537251c",
   "metadata": {},
   "outputs": [],
   "source": []
  },
  {
   "cell_type": "code",
   "execution_count": null,
   "id": "0101d2fa-a376-41c7-89fc-5909413c4804",
   "metadata": {},
   "outputs": [],
   "source": []
  },
  {
   "cell_type": "code",
   "execution_count": null,
   "id": "f9debaf8-7105-4862-825b-ecc01c47689d",
   "metadata": {},
   "outputs": [],
   "source": []
  }
 ],
 "metadata": {
  "kernelspec": {
   "display_name": "Python 3 (ipykernel)",
   "language": "python",
   "name": "python3"
  },
  "language_info": {
   "codemirror_mode": {
    "name": "ipython",
    "version": 3
   },
   "file_extension": ".py",
   "mimetype": "text/x-python",
   "name": "python",
   "nbconvert_exporter": "python",
   "pygments_lexer": "ipython3",
   "version": "3.10.12"
  }
 },
 "nbformat": 4,
 "nbformat_minor": 5
}
