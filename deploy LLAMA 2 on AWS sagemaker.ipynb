{
 "cells": [
  {
   "cell_type": "code",
   "execution_count": 1,
   "id": "6aa95bee-2aa1-44ed-8e7a-a5512f4e20d4",
   "metadata": {},
   "outputs": [
    {
     "name": "stdout",
     "output_type": "stream",
     "text": [
      "Requirement already satisfied: boto3==1.34.108 in /home/sid23/jupyter/environment/lib/python3.10/site-packages (from -r requirements.txt (line 1)) (1.34.108)\n",
      "Requirement already satisfied: sagemaker==2.220.0 in /home/sid23/jupyter/environment/lib/python3.10/site-packages (from -r requirements.txt (line 2)) (2.220.0)\n",
      "Requirement already satisfied: botocore<1.35.0,>=1.34.108 in /home/sid23/jupyter/environment/lib/python3.10/site-packages (from boto3==1.34.108->-r requirements.txt (line 1)) (1.34.108)\n",
      "Requirement already satisfied: jmespath<2.0.0,>=0.7.1 in /home/sid23/jupyter/environment/lib/python3.10/site-packages (from boto3==1.34.108->-r requirements.txt (line 1)) (1.0.1)\n",
      "Requirement already satisfied: s3transfer<0.11.0,>=0.10.0 in /home/sid23/jupyter/environment/lib/python3.10/site-packages (from boto3==1.34.108->-r requirements.txt (line 1)) (0.10.1)\n",
      "Requirement already satisfied: attrs<24,>=23.1.0 in /home/sid23/jupyter/environment/lib/python3.10/site-packages (from sagemaker==2.220.0->-r requirements.txt (line 2)) (23.1.0)\n",
      "Requirement already satisfied: cloudpickle==2.2.1 in /home/sid23/jupyter/environment/lib/python3.10/site-packages (from sagemaker==2.220.0->-r requirements.txt (line 2)) (2.2.1)\n",
      "Requirement already satisfied: google-pasta in /home/sid23/jupyter/environment/lib/python3.10/site-packages (from sagemaker==2.220.0->-r requirements.txt (line 2)) (0.2.0)\n",
      "Requirement already satisfied: numpy<2.0,>=1.9.0 in /home/sid23/jupyter/environment/lib/python3.10/site-packages (from sagemaker==2.220.0->-r requirements.txt (line 2)) (1.26.4)\n",
      "Requirement already satisfied: protobuf<5.0,>=3.12 in /home/sid23/jupyter/environment/lib/python3.10/site-packages (from sagemaker==2.220.0->-r requirements.txt (line 2)) (4.23.4)\n",
      "Requirement already satisfied: smdebug-rulesconfig==1.0.1 in /home/sid23/jupyter/environment/lib/python3.10/site-packages (from sagemaker==2.220.0->-r requirements.txt (line 2)) (1.0.1)\n",
      "Requirement already satisfied: importlib-metadata<7.0,>=1.4.0 in /home/sid23/jupyter/environment/lib/python3.10/site-packages (from sagemaker==2.220.0->-r requirements.txt (line 2)) (6.8.0)\n",
      "Requirement already satisfied: packaging>=20.0 in /home/sid23/jupyter/environment/lib/python3.10/site-packages (from sagemaker==2.220.0->-r requirements.txt (line 2)) (23.2)\n",
      "Requirement already satisfied: pandas in /home/sid23/jupyter/environment/lib/python3.10/site-packages (from sagemaker==2.220.0->-r requirements.txt (line 2)) (2.2.0)\n",
      "Requirement already satisfied: pathos in /home/sid23/jupyter/environment/lib/python3.10/site-packages (from sagemaker==2.220.0->-r requirements.txt (line 2)) (0.3.1)\n",
      "Requirement already satisfied: schema in /home/sid23/jupyter/environment/lib/python3.10/site-packages (from sagemaker==2.220.0->-r requirements.txt (line 2)) (0.7.5)\n",
      "Requirement already satisfied: PyYAML~=6.0 in /home/sid23/jupyter/environment/lib/python3.10/site-packages (from sagemaker==2.220.0->-r requirements.txt (line 2)) (6.0.1)\n",
      "Requirement already satisfied: jsonschema in /home/sid23/jupyter/environment/lib/python3.10/site-packages (from sagemaker==2.220.0->-r requirements.txt (line 2)) (4.19.2)\n",
      "Requirement already satisfied: platformdirs in /home/sid23/jupyter/environment/lib/python3.10/site-packages (from sagemaker==2.220.0->-r requirements.txt (line 2)) (3.11.0)\n",
      "Requirement already satisfied: tblib<4,>=1.7.0 in /home/sid23/jupyter/environment/lib/python3.10/site-packages (from sagemaker==2.220.0->-r requirements.txt (line 2)) (1.7.0)\n",
      "Requirement already satisfied: urllib3<3.0.0,>=1.26.8 in /home/sid23/jupyter/environment/lib/python3.10/site-packages (from sagemaker==2.220.0->-r requirements.txt (line 2)) (1.26.18)\n",
      "Requirement already satisfied: requests in /home/sid23/jupyter/environment/lib/python3.10/site-packages (from sagemaker==2.220.0->-r requirements.txt (line 2)) (2.31.0)\n",
      "Requirement already satisfied: docker in /home/sid23/jupyter/environment/lib/python3.10/site-packages (from sagemaker==2.220.0->-r requirements.txt (line 2)) (6.1.3)\n",
      "Requirement already satisfied: tqdm in /home/sid23/jupyter/environment/lib/python3.10/site-packages (from sagemaker==2.220.0->-r requirements.txt (line 2)) (4.66.2)\n",
      "Requirement already satisfied: psutil in /home/sid23/jupyter/environment/lib/python3.10/site-packages (from sagemaker==2.220.0->-r requirements.txt (line 2)) (5.9.6)\n",
      "Requirement already satisfied: python-dateutil<3.0.0,>=2.1 in /home/sid23/jupyter/environment/lib/python3.10/site-packages (from botocore<1.35.0,>=1.34.108->boto3==1.34.108->-r requirements.txt (line 1)) (2.8.2)\n",
      "Requirement already satisfied: zipp>=0.5 in /home/sid23/jupyter/environment/lib/python3.10/site-packages (from importlib-metadata<7.0,>=1.4.0->sagemaker==2.220.0->-r requirements.txt (line 2)) (3.17.0)\n",
      "Requirement already satisfied: websocket-client>=0.32.0 in /home/sid23/jupyter/environment/lib/python3.10/site-packages (from docker->sagemaker==2.220.0->-r requirements.txt (line 2)) (1.6.4)\n",
      "Requirement already satisfied: charset-normalizer<4,>=2 in /home/sid23/jupyter/environment/lib/python3.10/site-packages (from requests->sagemaker==2.220.0->-r requirements.txt (line 2)) (3.3.2)\n",
      "Requirement already satisfied: idna<4,>=2.5 in /home/sid23/jupyter/environment/lib/python3.10/site-packages (from requests->sagemaker==2.220.0->-r requirements.txt (line 2)) (3.6)\n",
      "Requirement already satisfied: certifi>=2017.4.17 in /home/sid23/jupyter/environment/lib/python3.10/site-packages (from requests->sagemaker==2.220.0->-r requirements.txt (line 2)) (2024.2.2)\n",
      "Requirement already satisfied: six in /home/sid23/jupyter/environment/lib/python3.10/site-packages (from google-pasta->sagemaker==2.220.0->-r requirements.txt (line 2)) (1.16.0)\n",
      "Requirement already satisfied: jsonschema-specifications>=2023.03.6 in /home/sid23/jupyter/environment/lib/python3.10/site-packages (from jsonschema->sagemaker==2.220.0->-r requirements.txt (line 2)) (2023.7.1)\n",
      "Requirement already satisfied: referencing>=0.28.4 in /home/sid23/jupyter/environment/lib/python3.10/site-packages (from jsonschema->sagemaker==2.220.0->-r requirements.txt (line 2)) (0.30.2)\n",
      "Requirement already satisfied: rpds-py>=0.7.1 in /home/sid23/jupyter/environment/lib/python3.10/site-packages (from jsonschema->sagemaker==2.220.0->-r requirements.txt (line 2)) (0.10.6)\n",
      "Requirement already satisfied: pytz>=2020.1 in /home/sid23/jupyter/environment/lib/python3.10/site-packages (from pandas->sagemaker==2.220.0->-r requirements.txt (line 2)) (2024.1)\n",
      "Requirement already satisfied: tzdata>=2022.7 in /home/sid23/jupyter/environment/lib/python3.10/site-packages (from pandas->sagemaker==2.220.0->-r requirements.txt (line 2)) (2024.1)\n",
      "Requirement already satisfied: ppft>=1.7.6.7 in /home/sid23/jupyter/environment/lib/python3.10/site-packages (from pathos->sagemaker==2.220.0->-r requirements.txt (line 2)) (1.7.6.7)\n",
      "Requirement already satisfied: dill>=0.3.7 in /home/sid23/jupyter/environment/lib/python3.10/site-packages (from pathos->sagemaker==2.220.0->-r requirements.txt (line 2)) (0.3.7)\n",
      "Requirement already satisfied: pox>=0.3.3 in /home/sid23/jupyter/environment/lib/python3.10/site-packages (from pathos->sagemaker==2.220.0->-r requirements.txt (line 2)) (0.3.3)\n",
      "Requirement already satisfied: multiprocess>=0.70.15 in /home/sid23/jupyter/environment/lib/python3.10/site-packages (from pathos->sagemaker==2.220.0->-r requirements.txt (line 2)) (0.70.15)\n",
      "Requirement already satisfied: contextlib2>=0.5.5 in /home/sid23/jupyter/environment/lib/python3.10/site-packages (from schema->sagemaker==2.220.0->-r requirements.txt (line 2)) (21.6.0)\n",
      "\n",
      "\u001b[1m[\u001b[0m\u001b[34;49mnotice\u001b[0m\u001b[1;39;49m]\u001b[0m\u001b[39;49m A new release of pip is available: \u001b[0m\u001b[31;49m23.3.1\u001b[0m\u001b[39;49m -> \u001b[0m\u001b[32;49m24.0\u001b[0m\n",
      "\u001b[1m[\u001b[0m\u001b[34;49mnotice\u001b[0m\u001b[1;39;49m]\u001b[0m\u001b[39;49m To update, run: \u001b[0m\u001b[32;49mpip install --upgrade pip\u001b[0m\n"
     ]
    }
   ],
   "source": [
    "!pip install -r requirements.txt"
   ]
  },
  {
   "cell_type": "markdown",
   "id": "f6f4ed6b-13ac-4569-b6be-d436f74c41a5",
   "metadata": {},
   "source": [
    "**Importing the dependencies**"
   ]
  },
  {
   "cell_type": "code",
   "execution_count": 2,
   "id": "37826395-bccd-4f5d-9627-eb28429ba8e1",
   "metadata": {},
   "outputs": [
    {
     "name": "stdout",
     "output_type": "stream",
     "text": [
      "sagemaker.config INFO - Not applying SDK defaults from location: /etc/xdg/xdg-ubuntu/sagemaker/config.yaml\n",
      "sagemaker.config INFO - Not applying SDK defaults from location: /home/sid23/.config/sagemaker/config.yaml\n"
     ]
    }
   ],
   "source": [
    "import os\n",
    "import json\n",
    "\n",
    "import boto3\n",
    "import sagemaker\n",
    "from sagemaker.huggingface import get_huggingface_llm_image_uri, HuggingFaceModel"
   ]
  },
  {
   "cell_type": "markdown",
   "id": "43be28eb-6b30-4216-9702-7e664a145f64",
   "metadata": {},
   "source": [
    "**AWS configuration**"
   ]
  },
  {
   "cell_type": "code",
   "execution_count": 3,
   "id": "2bf16203-6c38-453c-9299-5d98106acaf5",
   "metadata": {},
   "outputs": [],
   "source": [
    "config_data = json.load(open(\"config.json\"))"
   ]
  },
  {
   "cell_type": "code",
   "execution_count": 4,
   "id": "b8ae2632-f1c7-47ba-9722-5e756c2e1f56",
   "metadata": {},
   "outputs": [
    {
     "data": {
      "text/plain": [
       "dict_keys(['AWS_ACCESS_KEY_ID', 'AWS_SECRET_ACCESS_KEY', 'AWS_DEFAULT_REGION', 'ROLE_NAME', 'HF_TOKEN'])"
      ]
     },
     "execution_count": 4,
     "metadata": {},
     "output_type": "execute_result"
    }
   ],
   "source": [
    "config_data.keys()"
   ]
  },
  {
   "cell_type": "code",
   "execution_count": 5,
   "id": "87af9624-25cf-40ab-bee7-e374c50d7ae5",
   "metadata": {},
   "outputs": [],
   "source": [
    "AWS_ACCESS_KEY_ID = config_data[\"AWS_ACCESS_KEY_ID\"]\n",
    "AWS_SECRET_ACCESS_KEY = config_data[\"AWS_SECRET_ACCESS_KEY\"]\n",
    "AWS_DEFAULT_REGION = config_data[\"AWS_DEFAULT_REGION\"]\n",
    "ROLE_NAME = config_data[\"ROLE_NAME\"]\n",
    "HF_TOKEN = config_data[\"HF_TOKEN\"]"
   ]
  },
  {
   "cell_type": "code",
   "execution_count": 6,
   "id": "0ad6e5ed-df42-4012-8330-5d247a173d85",
   "metadata": {},
   "outputs": [],
   "source": [
    "# Set up AWS credentials with environment variables\n",
    "os.environ['AWS_ACCESS_KEY_ID'] = AWS_ACCESS_KEY_ID\n",
    "os.environ['AWS_SECRET_ACCESS_KEY'] = AWS_SECRET_ACCESS_KEY\n",
    "os.environ['AWS_DEFAULT_REGION'] = AWS_DEFAULT_REGION"
   ]
  },
  {
   "cell_type": "code",
   "execution_count": 7,
   "id": "85ca803b-0609-4be8-be5f-dbae5f90d92c",
   "metadata": {},
   "outputs": [
    {
     "name": "stderr",
     "output_type": "stream",
     "text": [
      "Couldn't call 'get_role' to get Role ARN from role name arn:aws:iam::730335406979:root to get Role path.\n"
     ]
    }
   ],
   "source": [
    "try:\n",
    "    role = sagemaker.get_execution_role()\n",
    "except ValueError:\n",
    "    iam = boto3.client('iam')\n",
    "    role = iam.get_role(RoleName=ROLE_NAME)['Role']['Arn']\n",
    "\n",
    "# ROLE_NAME example: sid-yt-sagemaker-role (Sagemaker execution Role)"
   ]
  },
  {
   "cell_type": "markdown",
   "id": "82372a1c-33ba-4516-afc9-f3ebb638a050",
   "metadata": {},
   "source": [
    "**Instance Configuration**"
   ]
  },
  {
   "cell_type": "code",
   "execution_count": 8,
   "id": "fbe0120b-46cf-4f3e-a4ae-24c568490282",
   "metadata": {},
   "outputs": [],
   "source": [
    "# retrieve the llm image uri\n",
    "llm_image = get_huggingface_llm_image_uri(\n",
    "  \"huggingface\",\n",
    "  version=\"0.9.3\"\n",
    ")"
   ]
  },
  {
   "cell_type": "code",
   "execution_count": 9,
   "id": "f632ff74-1a5a-4402-a9fb-8c0334707b60",
   "metadata": {},
   "outputs": [],
   "source": [
    "# sagemaker config\n",
    "instance_type = \"ml.g5.xlarge\"\n",
    "number_of_gpu = 1\n",
    "health_check_timeout = 600\n",
    "endpoint_name = \"llama-2-endpoint\""
   ]
  },
  {
   "cell_type": "code",
   "execution_count": 10,
   "id": "f23a2e43-ee80-426e-9b47-54c2a0fb2dd0",
   "metadata": {},
   "outputs": [],
   "source": [
    "# Define Model and Endpoint configuration parameter\n",
    "config = {\n",
    "  'HF_MODEL_ID': \"meta-llama/Llama-2-7b-chat-hf\", # model_id from hf.co/models\n",
    "  'SM_NUM_GPUS': json.dumps(number_of_gpu), # Number of GPU used per replica\n",
    "  'MAX_INPUT_LENGTH': json.dumps(2048),  # Max length of input text\n",
    "  'MAX_TOTAL_TOKENS': json.dumps(4096),  # Max length of the generation (including input text)\n",
    "  'MAX_BATCH_TOTAL_TOKENS': json.dumps(8192),  # Limits the number of tokens that can be processed in parallel during the generation\n",
    "  'HUGGING_FACE_HUB_TOKEN': HF_TOKEN,\n",
    "  'HF_MODEL_QUANTIZE': \"bitsandbytes\", # comment in to quantize\n",
    "}"
   ]
  },
  {
   "cell_type": "code",
   "execution_count": 11,
   "id": "fd524079-cef3-43c4-b551-6949439bac9a",
   "metadata": {},
   "outputs": [],
   "source": [
    "# create HuggingFaceModel with the image uri\n",
    "llm_model = HuggingFaceModel(\n",
    "  name='llama-2-model',\n",
    "  role=role,\n",
    "  image_uri=llm_image,\n",
    "  env=config\n",
    ")"
   ]
  },
  {
   "cell_type": "code",
   "execution_count": 12,
   "id": "81159360-1ddf-4b5e-b0bd-6bc6b5cbcc71",
   "metadata": {},
   "outputs": [
    {
     "name": "stdout",
     "output_type": "stream",
     "text": [
      "-----------!\n",
      "LLAMA 2 model deployed to Sagemaker\n"
     ]
    }
   ],
   "source": [
    "# Deploy model to an endpoint\n",
    "llm = llm_model.deploy(\n",
    "  endpoint_name=endpoint_name,\n",
    "  initial_instance_count=1,\n",
    "  instance_type=instance_type,\n",
    "  container_startup_health_check_timeout=health_check_timeout, # 10 minutes to be able to load the model\n",
    ")\n",
    "\n",
    "print('\\nLLAMA 2 model deployed to Sagemaker')"
   ]
  },
  {
   "cell_type": "code",
   "execution_count": null,
   "id": "fbed3aad-f601-499e-86f0-e5a00a14f9f3",
   "metadata": {},
   "outputs": [],
   "source": []
  }
 ],
 "metadata": {
  "kernelspec": {
   "display_name": "Python 3 (ipykernel)",
   "language": "python",
   "name": "python3"
  },
  "language_info": {
   "codemirror_mode": {
    "name": "ipython",
    "version": 3
   },
   "file_extension": ".py",
   "mimetype": "text/x-python",
   "name": "python",
   "nbconvert_exporter": "python",
   "pygments_lexer": "ipython3",
   "version": "3.10.12"
  }
 },
 "nbformat": 4,
 "nbformat_minor": 5
}
