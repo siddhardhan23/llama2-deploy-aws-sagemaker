{
 "cells": [
  {
   "cell_type": "code",
   "execution_count": 1,
   "id": "2fbdab97-944f-44bc-a2fb-6910b43460a6",
   "metadata": {},
   "outputs": [],
   "source": [
    "import os\n",
    "import json\n",
    "\n",
    "import boto3"
   ]
  },
  {
   "cell_type": "code",
   "execution_count": 2,
   "id": "f98da66d-2bc5-4822-b50b-9a80a166139f",
   "metadata": {},
   "outputs": [],
   "source": [
    "config_data = json.load(open(\"config.json\"))"
   ]
  },
  {
   "cell_type": "code",
   "execution_count": 3,
   "id": "287666d7-a741-41ee-a2e8-a99cae3042ae",
   "metadata": {},
   "outputs": [],
   "source": [
    "AWS_ACCESS_KEY_ID = config_data[\"AWS_ACCESS_KEY_ID\"]\n",
    "AWS_SECRET_ACCESS_KEY = config_data[\"AWS_SECRET_ACCESS_KEY\"]\n",
    "AWS_DEFAULT_REGION = config_data[\"AWS_DEFAULT_REGION\"]"
   ]
  },
  {
   "cell_type": "code",
   "execution_count": 4,
   "id": "4cdba46a-52e2-4ac1-8389-dfef85f20df5",
   "metadata": {},
   "outputs": [],
   "source": [
    "# Set up AWS credentials with environment variables\n",
    "os.environ['AWS_ACCESS_KEY_ID'] = AWS_ACCESS_KEY_ID\n",
    "os.environ['AWS_SECRET_ACCESS_KEY'] = AWS_SECRET_ACCESS_KEY\n",
    "os.environ['AWS_DEFAULT_REGION'] = AWS_DEFAULT_REGION"
   ]
  },
  {
   "cell_type": "code",
   "execution_count": 5,
   "id": "e94a9a82-7749-4135-af41-0c7a18f01e0a",
   "metadata": {},
   "outputs": [],
   "source": [
    "# Create a SageMaker client\n",
    "session = boto3.Session()"
   ]
  },
  {
   "cell_type": "code",
   "execution_count": 6,
   "id": "383c4979-d885-4c4a-a997-1542798f318d",
   "metadata": {},
   "outputs": [],
   "source": [
    "sagemaker = session.client('sagemaker')"
   ]
  },
  {
   "cell_type": "code",
   "execution_count": 7,
   "id": "9c1dccd5-9279-4d1b-bb10-c574b185a69d",
   "metadata": {},
   "outputs": [],
   "source": [
    "# Specify the model name and endpoint name to delete\n",
    "endpoint_name = 'llama-2-endpoint'\n",
    "model_name = 'llama-2-model'\n",
    "endpoint_config_name = 'llama-2-endpoint'"
   ]
  },
  {
   "cell_type": "code",
   "execution_count": 8,
   "id": "415ea954-ca37-4c53-bb34-6268f6314fb9",
   "metadata": {},
   "outputs": [
    {
     "data": {
      "text/plain": [
       "{'ResponseMetadata': {'RequestId': '86cce369-0090-4c37-872a-569e36ad042a',\n",
       "  'HTTPStatusCode': 200,\n",
       "  'HTTPHeaders': {'x-amzn-requestid': '86cce369-0090-4c37-872a-569e36ad042a',\n",
       "   'content-type': 'application/x-amz-json-1.1',\n",
       "   'date': 'Mon, 20 May 2024 07:20:33 GMT',\n",
       "   'content-length': '0'},\n",
       "  'RetryAttempts': 0}}"
      ]
     },
     "execution_count": 8,
     "metadata": {},
     "output_type": "execute_result"
    }
   ],
   "source": [
    "# Delete the endpoint\n",
    "sagemaker.delete_endpoint(EndpointName=endpoint_name)"
   ]
  },
  {
   "cell_type": "code",
   "execution_count": 9,
   "id": "652b29ac-cc89-4b9c-b718-48e4836f4847",
   "metadata": {},
   "outputs": [
    {
     "data": {
      "text/plain": [
       "{'ResponseMetadata': {'RequestId': 'f784c21b-8c0a-4803-b88c-86eb4d61e15d',\n",
       "  'HTTPStatusCode': 200,\n",
       "  'HTTPHeaders': {'x-amzn-requestid': 'f784c21b-8c0a-4803-b88c-86eb4d61e15d',\n",
       "   'content-type': 'application/x-amz-json-1.1',\n",
       "   'date': 'Mon, 20 May 2024 07:20:53 GMT',\n",
       "   'content-length': '0'},\n",
       "  'RetryAttempts': 0}}"
      ]
     },
     "execution_count": 9,
     "metadata": {},
     "output_type": "execute_result"
    }
   ],
   "source": [
    "# Delete the model\n",
    "sagemaker.delete_model(ModelName=model_name)"
   ]
  },
  {
   "cell_type": "code",
   "execution_count": 10,
   "id": "7a01b018-1cba-4428-8c09-d546ba16c343",
   "metadata": {},
   "outputs": [
    {
     "data": {
      "text/plain": [
       "{'ResponseMetadata': {'RequestId': '417d63df-20db-49a0-b36e-0d255e91b631',\n",
       "  'HTTPStatusCode': 200,\n",
       "  'HTTPHeaders': {'x-amzn-requestid': '417d63df-20db-49a0-b36e-0d255e91b631',\n",
       "   'content-type': 'application/x-amz-json-1.1',\n",
       "   'date': 'Mon, 20 May 2024 07:20:57 GMT',\n",
       "   'content-length': '0'},\n",
       "  'RetryAttempts': 0}}"
      ]
     },
     "execution_count": 10,
     "metadata": {},
     "output_type": "execute_result"
    }
   ],
   "source": [
    "# Delete the endpoint configuration\n",
    "sagemaker.delete_endpoint_config(EndpointConfigName=endpoint_config_name)"
   ]
  },
  {
   "cell_type": "code",
   "execution_count": 11,
   "id": "2716f5df-4fdf-4702-9870-013fe286651a",
   "metadata": {},
   "outputs": [
    {
     "name": "stdout",
     "output_type": "stream",
     "text": [
      "Deleted SageMaker model: llama-2-model, endpoint: llama-2-endpoint, and endpoint configuration: llama-2-endpoint\n"
     ]
    }
   ],
   "source": [
    "print(f\"Deleted SageMaker model: {model_name}, endpoint: {endpoint_name}, and endpoint configuration: {endpoint_config_name}\")"
   ]
  },
  {
   "cell_type": "code",
   "execution_count": null,
   "id": "f0de908e-65e1-4bcf-81dd-77d14217eb07",
   "metadata": {},
   "outputs": [],
   "source": []
  }
 ],
 "metadata": {
  "kernelspec": {
   "display_name": "Python 3 (ipykernel)",
   "language": "python",
   "name": "python3"
  },
  "language_info": {
   "codemirror_mode": {
    "name": "ipython",
    "version": 3
   },
   "file_extension": ".py",
   "mimetype": "text/x-python",
   "name": "python",
   "nbconvert_exporter": "python",
   "pygments_lexer": "ipython3",
   "version": "3.10.12"
  }
 },
 "nbformat": 4,
 "nbformat_minor": 5
}
